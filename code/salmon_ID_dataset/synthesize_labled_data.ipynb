{
 "cells": [
  {
   "attachments": {},
   "cell_type": "markdown",
   "metadata": {},
   "source": [
    "This notebook generates a finished dataset from torax images and labled trackers saved to disk.\n",
    "It saves jpeg torax snippets and json labels to disk."
   ]
  },
  {
   "cell_type": "code",
   "execution_count": 1,
   "metadata": {},
   "outputs": [],
   "source": [
    "# Imports\n",
    "import sys  \n",
    "sys.path.insert(0, 'C:\\\\Users\\\\espebh\\\\Documents\\\\Thesis\\\\code_ver2')\n",
    "import cv2\n",
    "import numpy as np\n",
    "import torch\n",
    "import torchvision\n",
    "from PIL import Image\n",
    "import matplotlib.pyplot as plt\n",
    "import torchvision.transforms as T\n",
    "import math\n",
    "import pickle\n",
    "import os\n",
    "import pandas as pd\n",
    "import math\n",
    "import datetime\n",
    "import colorsys\n",
    "from scipy.special import softmax\n",
    "import albumentations as alb\n",
    "import json\n",
    "from helpers.track_utils import bb_intersection_over_union\n",
    "from helpers.formatting_functions import cv2_to_keyrcnn_in, alb_out_to_keyrcnn_in, labelme_to_alb_in\n",
    "from helpers import m\n"
   ]
  },
  {
   "cell_type": "code",
   "execution_count": 6,
   "metadata": {},
   "outputs": [],
   "source": [
    "# Specify paths\n",
    "input_path = r'C:\\\\Users\\\\espebh\\\\Documents\\\\Thesis\\\\data\\\\semiautomatically generated data\\\\'\n",
    "output_path = r'C:\\\\Users\\\\espebh\\\\Documents\\\\Thesis\\\\data\\\\semiautomatically generated data\\\\labled data\\\\tank 3 data\\\\all_data'\n",
    "\n",
    "tor_imgs_path = os.path.join(input_path, 'unlabelled data\\\\tank_9_and_3\\\\images\\\\torax')\n",
    "tracker_path = os.path.join(input_path, 'labled data\\\\tank 3 data\\\\trackers')\n",
    "img_path = os.path.join(output_path, 'images')\n",
    "label_path = os.path.join(output_path, 'labels')"
   ]
  },
  {
   "cell_type": "code",
   "execution_count": 7,
   "metadata": {},
   "outputs": [
    {
     "name": "stdout",
     "output_type": "stream",
     "text": [
      "['280922_t3_c4_1t_s1f_4500_5000 2023591054', 't3_c2_2t_s2_f_2500_3499 20232131129', 't3_c2_2t_s2_f_8000_8499 2023213823', 't3_c2_2t_s2_f_8500_9499 2023213857', 't3_c2_2t_s2_f_9500_10499 2023213103', 't3_c2_2t_s7_f_17000_17999 20232131226', 't3_c2_3t_s2f_7000_8000 20233221223', 't3_c4_1t_s6f_25500_26500 20233221450', 't3_c4_2t_s2f_25200_26200 20233221124', 't3_c4_2t_s2f_5000_10500 20233211553', 't3_c4_3t_2t_s2f_12500_13500 20233221325']\n"
     ]
    }
   ],
   "source": [
    "trackers = list(sorted(os.listdir(tracker_path)))\n",
    "movie_names = [x.split('.')[0] for x in trackers]\n",
    "print(movie_names)"
   ]
  },
  {
   "cell_type": "code",
   "execution_count": 8,
   "metadata": {},
   "outputs": [
    {
     "name": "stdout",
     "output_type": "stream",
     "text": [
      "280922_t3_c4_1t_s1f_4500_5000 20235910544662.1.jpeg\n",
      "280922_t3_c4_1t_s1f_4500_5000 20235910544663.1.jpeg\n",
      "280922_t3_c4_1t_s1f_4500_5000 20235910544664.1.jpeg\n",
      "280922_t3_c4_1t_s1f_4500_5000 20235910544665.1.jpeg\n"
     ]
    }
   ],
   "source": [
    "not_found = []\n",
    "\n",
    "for movie_name in movie_names:\n",
    "    trackers_file = open(os.path.join(tracker_path, movie_name + '.pkl'), 'rb')\n",
    "    trackers = pickle.load(trackers_file)\n",
    "    for t in trackers:\n",
    "        if hasattr(t, 'labels'):\n",
    "            for label in t.labels:\n",
    "                for frame in range(label[0], label[1]+1):\n",
    "                    img = cv2.imread(os.path.join(tor_imgs_path, movie_name, str(frame) + '.' + str(t.id) + '.jpeg'))\n",
    "                    try:\n",
    "                        cv2.imwrite(os.path.join(img_path, movie_name[0:18] +'_'+ str(frame) + '.' + str(t.id) + '.jpeg'), img) # Save image\n",
    "                        with open(os.path.join(label_path, movie_name[0:18] +'_'+ str(frame) + '.' + str(t.id) + '.json'), 'w') as f: # Save label\n",
    "                            json.dump(label[2], f)\n",
    "                    except:\n",
    "                        not_found.append(movie_name + str(frame) + '.' + str(t.id) + '.jpeg')\n",
    "                        print( movie_name + str(frame) + '.' + str(t.id) + '.jpeg')\n"
   ]
  },
  {
   "cell_type": "code",
   "execution_count": 9,
   "metadata": {},
   "outputs": [
    {
     "name": "stdout",
     "output_type": "stream",
     "text": [
      "4\n"
     ]
    }
   ],
   "source": [
    "print(len(not_found))"
   ]
  },
  {
   "cell_type": "code",
   "execution_count": null,
   "metadata": {},
   "outputs": [],
   "source": []
  },
  {
   "cell_type": "code",
   "execution_count": null,
   "metadata": {},
   "outputs": [],
   "source": []
  }
 ],
 "metadata": {
  "kernelspec": {
   "display_name": "dat_gen_th",
   "language": "python",
   "name": "python3"
  },
  "language_info": {
   "codemirror_mode": {
    "name": "ipython",
    "version": 3
   },
   "file_extension": ".py",
   "mimetype": "text/x-python",
   "name": "python",
   "nbconvert_exporter": "python",
   "pygments_lexer": "ipython3",
   "version": "3.10.8"
  },
  "orig_nbformat": 4,
  "vscode": {
   "interpreter": {
    "hash": "9a7185c951abbe44b6490a77c3dd043d369cddd1871340ea651b5398d74bb198"
   }
  }
 },
 "nbformat": 4,
 "nbformat_minor": 2
}
